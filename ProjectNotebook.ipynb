{
 "cells": [
  {
   "cell_type": "markdown",
   "metadata": {},
   "source": [
    "# Baby Chat\n",
    "\n",
    "Hi! Welcome to Baby Chat, the first ever child simulator chatbot.\n",
    "\n",
    "\n",
    "# Concept\n",
    "\n",
    "The concept for this project first came from taking cognitive science classes, in particular Cognition in the Wild, where we looked at what makes humans.. human - for example, what makes human conversations realistic, how humans came to inherit gestures from our ape ancestors as earliest sign of language and culture, and why children's behavior changes the way it does over time. As a student specializing in Machine Learning and wishing to go into AI, I am particularly interested in creating the most human-like experiences with a computer program. To get a start on this endeavor, I chose to create two chatbots - a baby and a toddler - that would provide the user with most human experiences possible, using real research of child development and conversation.\n",
    "\n",
    "\n",
    "\n",
    "# Approach\n",
    "\n",
    "The approach I took when coding this project is a mix of modular and linear. \n",
    "\n",
    "In terms of modular, I created a general Small Person class, from which Baby and a Toddler classes would inherit general methods and possible inputs. The Baby and Toddler classes are child classes of Small Person, and each have their personalized output messages, conversation topics, and smaller methods. \n",
    "\n",
    "In terms of linear, I decided to incorporate more script-like method calls in this notebook to make it more fun for the user to see the process of creation of Baby and Toddler, as well as to ensure that in extreme cases most important imports and calls get executed. The semi-linear approach also helps guide the user through two chatbots. \n",
    "\n"
   ]
  },
  {
   "cell_type": "raw",
   "metadata": {},
   "source": [
    "Ready?"
   ]
  },
  {
   "cell_type": "markdown",
   "metadata": {},
   "source": [
    "# Let's get started!"
   ]
  },
  {
   "cell_type": "code",
   "execution_count": 5,
   "metadata": {},
   "outputs": [],
   "source": [
    "# Setup - run this cell before doing the next part of the assignment\n",
    "#   This imports some extra code, making it available for us to use in the process\n",
    "import string\n",
    "import random\n",
    "from my_module.functions import *"
   ]
  },
  {
   "cell_type": "markdown",
   "metadata": {},
   "source": [
    "# Meet the Baby! \n",
    "\n",
    "Ready to talk to the first baby? It won't say much, and may cry a lot, but I hope you have fun! \n",
    "\n",
    "Run the next cell to create the baby and talk to it!"
   ]
  },
  {
   "cell_type": "code",
   "execution_count": 6,
   "metadata": {},
   "outputs": [
    {
     "name": "stdout",
     "output_type": "stream",
     "text": [
      "INPUT :\tquit\n",
      "OUTPUT: *falls asleep* *thanks for talking to him! I think he really liked you!*\n"
     ]
    }
   ],
   "source": [
    "baby = Baby()\n",
    "baby.talk_to_baby()"
   ]
  },
  {
   "cell_type": "markdown",
   "metadata": {},
   "source": [
    "# Meet the Toddler!\n",
    "\n",
    "Ready to talk to the next child? He gets grumpy and loves his mom a lot, and may also cry even more, but hang on!\n",
    "\n",
    "Run the next cell to create the toddler and talk to him!"
   ]
  },
  {
   "cell_type": "code",
   "execution_count": 4,
   "metadata": {},
   "outputs": [
    {
     "name": "stdout",
     "output_type": "stream",
     "text": [
      "INPUT :\thi!\n",
      "OUTPUT: lady!\n",
      "INPUT :\tyes i am a lady\n",
      "OUTPUT: *tears up* mommyyyyyyyy *mommy cant come now, she is busy outside* *but you can point at mommy by typing point!*\n",
      "INPUT :\tpoint!\n",
      "OUTPUT: ausai! play ausai! ausai! *nope, mommy is busy outside in the garden* *the last time he went outside without his mom knowing about it was when he tried eating about every plant there* *didnt go well*\n",
      "INPUT :\tdo you like to eat?\n",
      "OUTPUT: *eyes get super wide* *opens mouth* *oh no, mouth open for too long, drool everywhere* gibe!!! food!!! *oh no you better call his mom sometime soon to feed him*\n",
      "INPUT :\they mom!\n",
      "OUTPUT: girl!\n",
      "INPUT :\twhere is mommy?\n",
      "OUTPUT: mommy.. *gets sad* miss mommy... ausai? *outside? nonono, we cant go outside just yet*\n",
      "INPUT :\tno, we can't go outside\n",
      "OUTPUT: *tears up* ghe-ghe *oh no* *i swear if he cries, it will be loud* *maybe... type toy to give him a toy!*\n",
      "INPUT :\ttoy\n",
      "OUTPUT: *looks grumpy* m? *takes toy* ...... .......... *throws it at you! dammit!* *i guess he doesnt want to play*\n",
      "INPUT :\toh okay then\n",
      "OUTPUT: *gets distracted* *starts looking around* *get his attention! he always liked talking about food!*\n",
      "INPUT :\tfood\n",
      "OUTPUT: *eyes get really wide* *gets happy* aaaa! *did he eat sugar recently?* JUUUUUUUCEEEEE!!! *oh well he did* *he wont stop remembering that juice he got this morning*\n",
      "INPUT :\twhat about the juice?\n",
      "OUTPUT: mmmm? *tears up* *oh no here we go again* aaaaa aaaaaaaaaaAAAAAAAAAAAAAAA *he cries when he doesnt understand*\n",
      "INPUT :\twhat else do i say/\n",
      "OUTPUT: *tears up* mommyyyyyyyy *mommy cant come now, she is busy outside* *but you can point at mommy by typing point!*\n",
      "INPUT :\tquit\n",
      "OUTPUT: *falls asleep* *thanks for talking to him! I think he really liked you!*\n"
     ]
    }
   ],
   "source": [
    "toddler = Toddler()\n",
    "toddler.talk_to_toddler()\n"
   ]
  },
  {
   "cell_type": "code",
   "execution_count": null,
   "metadata": {},
   "outputs": [],
   "source": []
  }
 ],
 "metadata": {
  "kernelspec": {
   "display_name": "Python 3",
   "language": "python",
   "name": "python3"
  },
  "language_info": {
   "codemirror_mode": {
    "name": "ipython",
    "version": 3
   },
   "file_extension": ".py",
   "mimetype": "text/x-python",
   "name": "python",
   "nbconvert_exporter": "python",
   "pygments_lexer": "ipython3",
   "version": "3.7.1"
  }
 },
 "nbformat": 4,
 "nbformat_minor": 2
}
